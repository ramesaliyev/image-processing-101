{
 "cells": [
  {
   "cell_type": "markdown",
   "id": "63442547-b9e4-4df7-8dc0-56a8796f1621",
   "metadata": {},
   "source": [
    "# Preparation"
   ]
  },
  {
   "cell_type": "markdown",
   "id": "a3a17839-8cd0-4a03-a74e-64aeae812a11",
   "metadata": {},
   "source": [
    "## Import Used Libraries"
   ]
  },
  {
   "cell_type": "code",
   "execution_count": 411,
   "id": "b7955526-09bc-4655-b31d-833fe34e6777",
   "metadata": {},
   "outputs": [],
   "source": [
    "import matplotlib.pyplot as plt\n",
    "import matplotlib.image as img\n",
    "import os\n",
    "import math\n",
    "import json"
   ]
  },
  {
   "cell_type": "markdown",
   "id": "86dbe16c-1c98-4169-bdba-0ee48e440d81",
   "metadata": {},
   "source": [
    "## Read Image"
   ]
  },
  {
   "cell_type": "code",
   "execution_count": 412,
   "id": "287628e3-9a3d-4243-a63f-182c3cdb1ca9",
   "metadata": {},
   "outputs": [],
   "source": [
    "def readimage(path):\n",
    "    return img.imread(path)\n",
    "\n",
    "def showimage(image):\n",
    "    plt.imshow(image)"
   ]
  },
  {
   "cell_type": "markdown",
   "id": "f4b4798d-52e0-4efa-a425-196cf432454e",
   "metadata": {},
   "source": [
    "## RGB to Hue Conversion"
   ]
  },
  {
   "cell_type": "code",
   "execution_count": 413,
   "id": "b49dc60d-6476-49be-9c01-2eb9b6023253",
   "metadata": {},
   "outputs": [],
   "source": [
    "def RGB2Hue(r, g, b):\n",
    "    r = r / 255\n",
    "    g = g / 255\n",
    "    b = b / 255\n",
    "    \n",
    "    maxc = max(r, g, b)\n",
    "    minc = min(r, g, b)\n",
    "    rang = maxc - minc\n",
    "    hue = 0\n",
    "    \n",
    "    if rang == 0:\n",
    "        return 0\n",
    "    \n",
    "    if maxc == r:\n",
    "        hue = (g-b)/rang\n",
    "    elif maxc == g:\n",
    "        hue = 2.0 + (b-r)/rang\n",
    "    else:\n",
    "        hue = 4.0 + (r-g)/rang\n",
    "    \n",
    "    return (round(hue * 60) + 360) % 360"
   ]
  },
  {
   "cell_type": "markdown",
   "id": "11825abf-e2c7-4d16-8c8d-2c51e53ebdab",
   "metadata": {},
   "source": [
    "## Calculate Histogram"
   ]
  },
  {
   "cell_type": "code",
   "execution_count": 414,
   "id": "ff1ad9cd-e854-4293-b235-8e14ca5975ea",
   "metadata": {},
   "outputs": [],
   "source": [
    "def histogram(image):\n",
    "    R = [0] * 256\n",
    "    G = [0] * 256\n",
    "    B = [0] * 256\n",
    "    H = [0] * 360\n",
    "    \n",
    "    unit = 1.0 / (len(image) * len(image[0]))\n",
    "    \n",
    "    for row in image:\n",
    "        for pixel in row:\n",
    "            r, g, b = pixel\n",
    "            h = RGB2Hue(r, g, b)\n",
    "            R[r] += unit\n",
    "            G[g] += unit\n",
    "            B[b] += unit\n",
    "            H[h] += unit\n",
    "        \n",
    "    return (R, G, B, H)"
   ]
  },
  {
   "cell_type": "markdown",
   "id": "9c90f153-c956-477d-8520-bb655e67c490",
   "metadata": {},
   "source": [
    "## Calculate Distances   "
   ]
  },
  {
   "cell_type": "code",
   "execution_count": 415,
   "id": "291fd97b-749b-4e59-b44f-c3be3186a59c",
   "metadata": {},
   "outputs": [],
   "source": [
    "def eucdist(vecA, vecB):\n",
    "    pairs = list(zip(vecA, vecB))\n",
    "    total = sum((a-b)**2 for a, b in pairs)\n",
    "    return math.sqrt(total)\n",
    "\n",
    "def histdist(histsA, histsB):\n",
    "    histpairs = list(zip(histsA, histsB))\n",
    "    histdists = list(map(lambda p: eucdist(*p), histpairs))\n",
    "    return histdists\n",
    "\n",
    "def imagedist(histsA, histsB):\n",
    "    histdists = histdist(histsA, histsB)\n",
    "    rgbdist = eucdist([0,0,0], histdists[:3]) / math.sqrt(3) # max distance\n",
    "    huedist = histdists[-1]\n",
    "    return (rgbdist, huedist)\n",
    "\n",
    "def similarity(histsA, histsB):\n",
    "    rgbdist, huedist = imagedist(histsA, histsB)\n",
    "    return (1 - rgbdist, 1 - huedist)"
   ]
  },
  {
   "cell_type": "markdown",
   "id": "f0b86721-e783-4b1b-9e61-c1d65f739bd4",
   "metadata": {},
   "source": [
    "## Test"
   ]
  },
  {
   "cell_type": "code",
   "execution_count": 416,
   "id": "97b5eb20-3eee-41f7-9551-3c7d32e597ac",
   "metadata": {},
   "outputs": [],
   "source": [
    "# img1 = readimage('../images/elephant/image_0001.jpg')\n",
    "# img2 = readimage('../images/elephant/image_0002.jpg')\n",
    "\n",
    "# hists1 = histogram(img1)\n",
    "# hists2 = histogram(img2)\n",
    "\n",
    "# rgbdist, huedist = imagedist(hists1, hists2)\n",
    "\n",
    "# print(rgbdist)\n",
    "# print(huedist)"
   ]
  },
  {
   "cell_type": "markdown",
   "id": "8bebf0ba-d9d7-4983-a75f-8db152218e4c",
   "metadata": {},
   "source": [
    "## Collect Histograms of Train Images"
   ]
  },
  {
   "cell_type": "code",
   "execution_count": 417,
   "id": "616a4ccc-5434-4dde-84c9-c7a198c1b364",
   "metadata": {},
   "outputs": [],
   "source": [
    "def getfiles(dirpath):\n",
    "    files = next(os.walk(dirpath), (None, None, []))[2]\n",
    "    files = [file for file in files if file[0] != '.']\n",
    "    files.sort()\n",
    "    return files\n",
    "\n",
    "def train():\n",
    "    size = 20\n",
    "    root = '../images'\n",
    "    folders = ['elephant', 'flamingo', 'kangaroo', 'leopards', 'octopus', 'seahorse']\n",
    "    data = []\n",
    "    \n",
    "    for folder in folders:\n",
    "        dirpath = os.path.join(root, folder)\n",
    "        files = getfiles(dirpath)\n",
    "        \n",
    "        for file in files[:size]:\n",
    "            abspath = os.path.join(dirpath, file)\n",
    "            print(f\"Training {abspath}\") \n",
    "            \n",
    "            image = readimage(abspath)\n",
    "            hists = histogram(image)\n",
    "            \n",
    "            data.append({\n",
    "                'path': abspath,\n",
    "                'category': folder,\n",
    "                'histograms': hists\n",
    "            })\n",
    "            \n",
    "    with open('model.json', 'w') as outfile:\n",
    "        json.dump(data, outfile)\n",
    "        \n",
    "    print(\"Training done, model saved.\")\n",
    "    \n",
    "def loadmodel():\n",
    "    with open('model.json') as jsonfile:\n",
    "        data = json.load(jsonfile)\n",
    "        \n",
    "    return data;"
   ]
  },
  {
   "cell_type": "code",
   "execution_count": 418,
   "id": "8b159f39-d127-4649-8d01-54606084e412",
   "metadata": {},
   "outputs": [],
   "source": [
    "# train()"
   ]
  },
  {
   "cell_type": "markdown",
   "id": "7e9151a5-d7c7-44d2-b578-d2c6762445b7",
   "metadata": {},
   "source": [
    "## Retrieve Most Similar N Images From Model"
   ]
  },
  {
   "cell_type": "code",
   "execution_count": 431,
   "id": "1f841cc9-bb57-4682-9e7e-1fcf396579c4",
   "metadata": {},
   "outputs": [
    {
     "name": "stdout",
     "output_type": "stream",
     "text": [
      "[\n",
      "  [\n",
      "    {\n",
      "      \"rgb\": 0.9261940321506392,\n",
      "      \"hue\": 0.8795608348124292,\n",
      "      \"path\": \"../images/seahorse/image_0013.jpg\",\n",
      "      \"category\": \"seahorse\"\n",
      "    },\n",
      "    {\n",
      "      \"rgb\": 0.9040790920303821,\n",
      "      \"hue\": 0.7955747892785371,\n",
      "      \"path\": \"../images/elephant/image_0010.jpg\",\n",
      "      \"category\": \"elephant\"\n",
      "    },\n",
      "    {\n",
      "      \"rgb\": 0.9010390034147857,\n",
      "      \"hue\": 0.7954804421905373,\n",
      "      \"path\": \"../images/seahorse/image_0004.jpg\",\n",
      "      \"category\": \"seahorse\"\n",
      "    },\n",
      "    {\n",
      "      \"rgb\": 0.8869140118132379,\n",
      "      \"hue\": 0.7901952821625763,\n",
      "      \"path\": \"../images/elephant/image_0018.jpg\",\n",
      "      \"category\": \"elephant\"\n",
      "    },\n",
      "    {\n",
      "      \"rgb\": 0.8802197348152281,\n",
      "      \"hue\": 0.8431860925677345,\n",
      "      \"path\": \"../images/seahorse/image_0019.jpg\",\n",
      "      \"category\": \"seahorse\"\n",
      "    }\n",
      "  ],\n",
      "  [\n",
      "    {\n",
      "      \"rgb\": 0.8118929921635794,\n",
      "      \"hue\": 0.9028346667631683,\n",
      "      \"path\": \"../images/elephant/image_0008.jpg\",\n",
      "      \"category\": \"elephant\"\n",
      "    },\n",
      "    {\n",
      "      \"rgb\": 0.9261940321506392,\n",
      "      \"hue\": 0.8795608348124292,\n",
      "      \"path\": \"../images/seahorse/image_0013.jpg\",\n",
      "      \"category\": \"seahorse\"\n",
      "    },\n",
      "    {\n",
      "      \"rgb\": 0.8585143374606106,\n",
      "      \"hue\": 0.8675811556551798,\n",
      "      \"path\": \"../images/kangaroo/image_0007.jpg\",\n",
      "      \"category\": \"kangaroo\"\n",
      "    },\n",
      "    {\n",
      "      \"rgb\": 0.8638787639767459,\n",
      "      \"hue\": 0.8604382975517431,\n",
      "      \"path\": \"../images/seahorse/image_0008.jpg\",\n",
      "      \"category\": \"seahorse\"\n",
      "    },\n",
      "    {\n",
      "      \"rgb\": 0.851611998150097,\n",
      "      \"hue\": 0.851791809428395,\n",
      "      \"path\": \"../images/kangaroo/image_0004.jpg\",\n",
      "      \"category\": \"kangaroo\"\n",
      "    }\n",
      "  ]\n",
      "]\n"
     ]
    }
   ],
   "source": [
    "def retrieve(model, image, n):\n",
    "    targethists = histogram(image)\n",
    "    similars = []\n",
    "    \n",
    "    for source in model:\n",
    "        sourcehists = source['histograms']\n",
    "        closeness = similarity(targethists, sourcehists)\n",
    "        \n",
    "        similars.append({\n",
    "            'rgb': closeness[0],\n",
    "            'hue': closeness[1],\n",
    "            'path': source['path'],\n",
    "            'category': source['category']\n",
    "        })\n",
    "    \n",
    "    rgb = sorted(similars, key=lambda x: x['rgb'], reverse=True)\n",
    "    hue = sorted(similars, key=lambda x: x['hue'], reverse=True)\n",
    "    \n",
    "    return (rgb[:n], hue[:n])\n",
    "        \n",
    "model = loadmodel()\n",
    "image = readimage('../images/elephant/image_0021.jpg')\n",
    "mostsimilars = retrieve(model, image, 5)\n",
    "\n",
    "print(json.dumps(mostsimilars, indent=2))"
   ]
  },
  {
   "cell_type": "markdown",
   "id": "ee05acf6-c088-4da8-99a4-e7b92dd5eedb",
   "metadata": {},
   "source": [
    "## Collect Histograms of Test Images"
   ]
  },
  {
   "cell_type": "code",
   "execution_count": 420,
   "id": "a8473a8d-1639-41d0-971e-bb9d0caf0051",
   "metadata": {},
   "outputs": [],
   "source": [
    "# img1 = readimage('../images/elephant/image_0001.jpg')\n",
    "# img2 = readimage('../images/elephant/image_0002.jpg')\n",
    "\n",
    "# print(len(img1), len(img1[0]), len(img1[0][0]))\n",
    "\n",
    "# hists1 = histogram(img1)\n",
    "# hists2 = histogram(img2)\n",
    "\n",
    "# print(hists1[0][100:120])\n",
    "\n",
    "# histpairs = list(zip(hists1, hists2))\n",
    "# histdists = list(map(lambda p: eucdist(*p), histpairs))\n",
    "\n",
    "# huedist = histdists[-1]\n",
    "# rgbdist = eucdist([0,0,0], histdists[:3])\n",
    "\n",
    "# print(rgbdist)\n",
    "# print(huedist)    "
   ]
  }
 ],
 "metadata": {
  "kernelspec": {
   "display_name": "Python 3 (ipykernel)",
   "language": "python",
   "name": "python3"
  },
  "language_info": {
   "codemirror_mode": {
    "name": "ipython",
    "version": 3
   },
   "file_extension": ".py",
   "mimetype": "text/x-python",
   "name": "python",
   "nbconvert_exporter": "python",
   "pygments_lexer": "ipython3",
   "version": "3.9.8"
  }
 },
 "nbformat": 4,
 "nbformat_minor": 5
}
