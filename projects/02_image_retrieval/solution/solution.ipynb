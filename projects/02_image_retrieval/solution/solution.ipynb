{
 "cells": [
  {
   "cell_type": "markdown",
   "id": "63442547-b9e4-4df7-8dc0-56a8796f1621",
   "metadata": {},
   "source": [
    "# Preparation"
   ]
  },
  {
   "cell_type": "markdown",
   "id": "a3a17839-8cd0-4a03-a74e-64aeae812a11",
   "metadata": {},
   "source": [
    "## Import Used Libraries"
   ]
  },
  {
   "cell_type": "code",
   "execution_count": 67,
   "id": "b7955526-09bc-4655-b31d-833fe34e6777",
   "metadata": {},
   "outputs": [],
   "source": [
    "import matplotlib.pyplot as plt\n",
    "import matplotlib.image as img\n",
    "import os\n",
    "import math\n",
    "import json"
   ]
  },
  {
   "cell_type": "markdown",
   "id": "86dbe16c-1c98-4169-bdba-0ee48e440d81",
   "metadata": {},
   "source": [
    "## Read Image"
   ]
  },
  {
   "cell_type": "code",
   "execution_count": 68,
   "id": "287628e3-9a3d-4243-a63f-182c3cdb1ca9",
   "metadata": {},
   "outputs": [],
   "source": [
    "def readimage(path):\n",
    "    return img.imread(path)\n",
    "\n",
    "def showimage(image):\n",
    "    plt.imshow(image)"
   ]
  },
  {
   "cell_type": "markdown",
   "id": "f4b4798d-52e0-4efa-a425-196cf432454e",
   "metadata": {},
   "source": [
    "## RGB to Hue Conversion"
   ]
  },
  {
   "cell_type": "code",
   "execution_count": 69,
   "id": "b49dc60d-6476-49be-9c01-2eb9b6023253",
   "metadata": {},
   "outputs": [],
   "source": [
    "def RGB2Hue(r, g, b):\n",
    "    r = r / 255\n",
    "    g = g / 255\n",
    "    b = b / 255\n",
    "    \n",
    "    maxc = max(r, g, b)\n",
    "    minc = min(r, g, b)\n",
    "    rang = maxc - minc\n",
    "    hue = 0\n",
    "    \n",
    "    if rang == 0:\n",
    "        return 0\n",
    "    \n",
    "    if maxc == r:\n",
    "        hue = (g-b)/rang\n",
    "    elif maxc == g:\n",
    "        hue = 2.0 + (b-r)/rang\n",
    "    else:\n",
    "        hue = 4.0 + (r-g)/rang\n",
    "    \n",
    "    return (round(hue * 60) + 360) % 360"
   ]
  },
  {
   "cell_type": "markdown",
   "id": "11825abf-e2c7-4d16-8c8d-2c51e53ebdab",
   "metadata": {},
   "source": [
    "## Calculate Histogram"
   ]
  },
  {
   "cell_type": "code",
   "execution_count": 70,
   "id": "ff1ad9cd-e854-4293-b235-8e14ca5975ea",
   "metadata": {},
   "outputs": [],
   "source": [
    "def histogram(image):\n",
    "    R = [0] * 256\n",
    "    G = [0] * 256\n",
    "    B = [0] * 256\n",
    "    H = [0] * 360\n",
    "    \n",
    "    unit = 1.0 / (len(image) * len(image[0]))\n",
    "    \n",
    "    for row in image:\n",
    "        for pixel in row:\n",
    "            r, g, b = pixel\n",
    "            h = RGB2Hue(r, g, b)\n",
    "            R[r] += unit\n",
    "            G[g] += unit\n",
    "            B[b] += unit\n",
    "            H[h] += unit\n",
    "        \n",
    "    return (R, G, B, H)"
   ]
  },
  {
   "cell_type": "markdown",
   "id": "9c90f153-c956-477d-8520-bb655e67c490",
   "metadata": {},
   "source": [
    "## Calculate Distances   "
   ]
  },
  {
   "cell_type": "code",
   "execution_count": 71,
   "id": "291fd97b-749b-4e59-b44f-c3be3186a59c",
   "metadata": {},
   "outputs": [],
   "source": [
    "def eucdist(vecA, vecB):\n",
    "    pairs = list(zip(vecA, vecB))\n",
    "    total = sum((a-b)**2 for a, b in pairs)\n",
    "    return math.sqrt(total)\n",
    "\n",
    "def histdist(histsA, histsB):\n",
    "    histpairs = list(zip(histsA, histsB))\n",
    "    histdists = list(map(lambda p: eucdist(*p), histpairs))\n",
    "    return histdists\n",
    "\n",
    "def imagedist(histsA, histsB):\n",
    "    histdists = histdist(histsA, histsB)\n",
    "    rgbdist = eucdist([0,0,0], histdists[:3]) / math.sqrt(3) # max distance\n",
    "    huedist = histdists[-1]\n",
    "    return (rgbdist, huedist)\n",
    "\n",
    "def similarity(histsA, histsB):\n",
    "    rgbdist, huedist = imagedist(histsA, histsB)\n",
    "    return (1 - rgbdist, 1 - huedist)"
   ]
  },
  {
   "cell_type": "markdown",
   "id": "f0b86721-e783-4b1b-9e61-c1d65f739bd4",
   "metadata": {},
   "source": [
    "## Test Distance"
   ]
  },
  {
   "cell_type": "code",
   "execution_count": 106,
   "id": "97b5eb20-3eee-41f7-9551-3c7d32e597ac",
   "metadata": {},
   "outputs": [
    {
     "name": "stdout",
     "output_type": "stream",
     "text": [
      "0.6794588592400552\n",
      "0.9045732711694615\n"
     ]
    }
   ],
   "source": [
    "# img1 = readimage('../images/seahorse/image_0021.jpg')\n",
    "# img2 = readimage('../images/octopus/image_0030.jpg')\n",
    "\n",
    "# hists1 = histogram(img1)\n",
    "# hists2 = histogram(img2)\n",
    "\n",
    "# rgbsim, huesim = similarity(hists1, hists2)\n",
    "\n",
    "# print(rgbsim)\n",
    "# print(huesim)"
   ]
  },
  {
   "cell_type": "markdown",
   "id": "8bebf0ba-d9d7-4983-a75f-8db152218e4c",
   "metadata": {},
   "source": [
    "## Collect Histograms of Train Images"
   ]
  },
  {
   "cell_type": "code",
   "execution_count": 73,
   "id": "616a4ccc-5434-4dde-84c9-c7a198c1b364",
   "metadata": {},
   "outputs": [],
   "source": [
    "def getfiles(dirpath):\n",
    "    files = next(os.walk(dirpath), (None, None, []))[2]\n",
    "    files = [file for file in files if file[0] != '.']\n",
    "    files.sort()\n",
    "    return files\n",
    "\n",
    "def train(root, folders, size):\n",
    "    data = []\n",
    "    \n",
    "    for folder in folders:\n",
    "        dirpath = os.path.join(root, folder)\n",
    "        files = getfiles(dirpath)\n",
    "        \n",
    "        for file in files[:size]:\n",
    "            abspath = os.path.join(dirpath, file)\n",
    "            print(f\"Training {abspath}\") \n",
    "            \n",
    "            image = readimage(abspath)\n",
    "            hists = histogram(image)\n",
    "            \n",
    "            data.append({\n",
    "                'path': abspath,\n",
    "                'category': folder,\n",
    "                'histograms': hists\n",
    "            })\n",
    "            \n",
    "    with open('model.json', 'w') as outfile:\n",
    "        json.dump(data, outfile)\n",
    "        \n",
    "    print(\"Training done, model saved.\")\n",
    "    \n",
    "def loadmodel():\n",
    "    with open('model.json') as jsonfile:\n",
    "        data = json.load(jsonfile)\n",
    "        \n",
    "    return data;"
   ]
  },
  {
   "cell_type": "markdown",
   "id": "7e9151a5-d7c7-44d2-b578-d2c6762445b7",
   "metadata": {},
   "source": [
    "## Retrieve Most Similar N Images From Model"
   ]
  },
  {
   "cell_type": "code",
   "execution_count": 74,
   "id": "1f841cc9-bb57-4682-9e7e-1fcf396579c4",
   "metadata": {},
   "outputs": [],
   "source": [
    "def retrieve(model, image, n):\n",
    "    targethists = histogram(image)\n",
    "    similars = []\n",
    "    \n",
    "    for source in model:\n",
    "        sourcehists = source['histograms']\n",
    "        closeness = similarity(targethists, sourcehists)\n",
    "        \n",
    "        similars.append({\n",
    "            'rgb': closeness[0],\n",
    "            'hue': closeness[1],\n",
    "            'path': source['path'],\n",
    "            'category': source['category']\n",
    "        })\n",
    "    \n",
    "    rgb = sorted(similars, key=lambda x: x['rgb'], reverse=True)\n",
    "    hue = sorted(similars, key=lambda x: x['hue'], reverse=True)\n",
    "    \n",
    "    return (rgb[:n], hue[:n])"
   ]
  },
  {
   "cell_type": "markdown",
   "id": "d8692dca-01fd-4908-a43a-b8c5d801af27",
   "metadata": {},
   "source": [
    "# Test Retrieval"
   ]
  },
  {
   "cell_type": "code",
   "execution_count": 107,
   "id": "a5b7c906-a5f8-4107-a965-76e7b0e0b551",
   "metadata": {},
   "outputs": [
    {
     "name": "stdout",
     "output_type": "stream",
     "text": [
      "[\n",
      "  [\n",
      "    {\n",
      "      \"rgb\": 0.9230668772861562,\n",
      "      \"hue\": 0.903471890964705,\n",
      "      \"path\": \"../images/seahorse/image_0004.jpg\",\n",
      "      \"category\": \"seahorse\"\n",
      "    },\n",
      "    {\n",
      "      \"rgb\": 0.9203094464494688,\n",
      "      \"hue\": 0.8253982267193216,\n",
      "      \"path\": \"../images/elephant/image_0014.jpg\",\n",
      "      \"category\": \"elephant\"\n",
      "    },\n",
      "    {\n",
      "      \"rgb\": 0.8916960967265211,\n",
      "      \"hue\": 0.8649403721435833,\n",
      "      \"path\": \"../images/elephant/image_0013.jpg\",\n",
      "      \"category\": \"elephant\"\n",
      "    },\n",
      "    {\n",
      "      \"rgb\": 0.857854968529906,\n",
      "      \"hue\": 0.769848524494094,\n",
      "      \"path\": \"../images/seahorse/image_0017.jpg\",\n",
      "      \"category\": \"seahorse\"\n",
      "    },\n",
      "    {\n",
      "      \"rgb\": 0.832654119264067,\n",
      "      \"hue\": 0.7515507942995956,\n",
      "      \"path\": \"../images/elephant/image_0010.jpg\",\n",
      "      \"category\": \"elephant\"\n",
      "    }\n",
      "  ],\n",
      "  [\n",
      "    {\n",
      "      \"rgb\": 0.9230668772861562,\n",
      "      \"hue\": 0.903471890964705,\n",
      "      \"path\": \"../images/seahorse/image_0004.jpg\",\n",
      "      \"category\": \"seahorse\"\n",
      "    },\n",
      "    {\n",
      "      \"rgb\": 0.690020423857445,\n",
      "      \"hue\": 0.8655152845430243,\n",
      "      \"path\": \"../images/elephant/image_0007.jpg\",\n",
      "      \"category\": \"elephant\"\n",
      "    },\n",
      "    {\n",
      "      \"rgb\": 0.8916960967265211,\n",
      "      \"hue\": 0.8649403721435833,\n",
      "      \"path\": \"../images/elephant/image_0013.jpg\",\n",
      "      \"category\": \"elephant\"\n",
      "    },\n",
      "    {\n",
      "      \"rgb\": 0.9203094464494688,\n",
      "      \"hue\": 0.8253982267193216,\n",
      "      \"path\": \"../images/elephant/image_0014.jpg\",\n",
      "      \"category\": \"elephant\"\n",
      "    },\n",
      "    {\n",
      "      \"rgb\": 0.3925585164696088,\n",
      "      \"hue\": 0.8090031734392289,\n",
      "      \"path\": \"../images/octopus/image_0009.jpg\",\n",
      "      \"category\": \"octopus\"\n",
      "    }\n",
      "  ]\n",
      "]\n"
     ]
    }
   ],
   "source": [
    "# model = loadmodel()\n",
    "# image = readimage('../images/octopus/image_0030.jpg')\n",
    "# mostsimilars = retrieve(model, image, 5)\n",
    "\n",
    "# print(json.dumps(mostsimilars, indent=2))"
   ]
  },
  {
   "cell_type": "markdown",
   "id": "ee05acf6-c088-4da8-99a4-e7b92dd5eedb",
   "metadata": {},
   "source": [
    "## Find Most Similar Images of Test Images"
   ]
  },
  {
   "cell_type": "code",
   "execution_count": 97,
   "id": "a8473a8d-1639-41d0-971e-bb9d0caf0051",
   "metadata": {},
   "outputs": [],
   "source": [
    "def test(root, folders, after):\n",
    "    model = loadmodel()\n",
    "    results = []\n",
    "    \n",
    "    for category in folders:\n",
    "        dirpath = os.path.join(root, category)\n",
    "        files = getfiles(dirpath)\n",
    "        \n",
    "        for file in files[after:]:\n",
    "            abspath = os.path.join(dirpath, file)\n",
    "            \n",
    "            result = {\n",
    "                'path': abspath,\n",
    "                'category': category,\n",
    "                'rgb':{'success':False, 'results':[]},\n",
    "                'hue':{'success':False, 'results':[]}\n",
    "            }\n",
    "            \n",
    "            image = readimage(abspath)\n",
    "            rgb, hue = retrieve(model, image, 5)\n",
    "            \n",
    "            result['rgb']['success'] = any(match['category'] == category for match in rgb)\n",
    "            result['hue']['success'] = any(match['category'] == category for match in hue)\n",
    "            result['rgb']['results'] = rgb\n",
    "            result['hue']['results'] = hue\n",
    "            \n",
    "            # print(f\"Testing {abspath} {result['rgb']['success']} {result['hue']['success']}\") \n",
    "            \n",
    "            results.append(result)\n",
    "            \n",
    "    return results"
   ]
  },
  {
   "cell_type": "markdown",
   "id": "96546717-aba5-44b4-ac02-466bf41efcd0",
   "metadata": {},
   "source": [
    "## Calculate Test Report"
   ]
  },
  {
   "cell_type": "markdown",
   "id": "e4d796b4-f266-4bba-888f-c5108df632e0",
   "metadata": {},
   "source": [
    "## Main Flow"
   ]
  },
  {
   "cell_type": "markdown",
   "id": "8e0044e2-bbfe-444e-800f-384beb3ca1bf",
   "metadata": {},
   "source": [
    "**Configure Dataset**"
   ]
  },
  {
   "cell_type": "code",
   "execution_count": 98,
   "id": "aacca6e5-7917-456c-9320-4cb643a2e741",
   "metadata": {},
   "outputs": [],
   "source": [
    "ds_root = '../images'\n",
    "ds_folders = ['elephant', 'flamingo', 'kangaroo', 'leopards', 'octopus', 'seahorse']\n",
    "ds_train_size = 20"
   ]
  },
  {
   "cell_type": "markdown",
   "id": "ca7a3fb0-7a62-40c9-b772-e654ecabf318",
   "metadata": {},
   "source": [
    "**Train Model**"
   ]
  },
  {
   "cell_type": "code",
   "execution_count": 99,
   "id": "e61e2bd2-d01c-4954-bcd4-cb8df6d97e8f",
   "metadata": {},
   "outputs": [],
   "source": [
    "# train(ds_root, ds_folders, ds_train_size)"
   ]
  },
  {
   "cell_type": "markdown",
   "id": "fb41e002-e62d-46f6-8c62-0addce57919f",
   "metadata": {},
   "source": [
    "**Find Results**"
   ]
  },
  {
   "cell_type": "code",
   "execution_count": 100,
   "id": "cdc347fe-3139-4d77-8986-950162000591",
   "metadata": {},
   "outputs": [
    {
     "name": "stdout",
     "output_type": "stream",
     "text": [
      "Testing ../images/elephant/image_0021.jpg True True\n",
      "Testing ../images/elephant/image_0022.jpg False True\n",
      "Testing ../images/elephant/image_0023.jpg True False\n",
      "Testing ../images/elephant/image_0024.jpg False False\n",
      "Testing ../images/elephant/image_0025.jpg True True\n",
      "Testing ../images/elephant/image_0026.jpg False True\n",
      "Testing ../images/elephant/image_0027.jpg True True\n",
      "Testing ../images/elephant/image_0028.jpg True False\n",
      "Testing ../images/elephant/image_0029.jpg True True\n",
      "Testing ../images/elephant/image_0030.jpg True False\n",
      "Testing ../images/flamingo/image_0021.jpg True False\n",
      "Testing ../images/flamingo/image_0022.jpg False True\n",
      "Testing ../images/flamingo/image_0023.jpg False False\n",
      "Testing ../images/flamingo/image_0024.jpg False True\n",
      "Testing ../images/flamingo/image_0025.jpg False False\n",
      "Testing ../images/flamingo/image_0026.jpg False True\n",
      "Testing ../images/flamingo/image_0027.jpg False True\n",
      "Testing ../images/flamingo/image_0028.jpg False True\n",
      "Testing ../images/flamingo/image_0029.jpg True True\n",
      "Testing ../images/flamingo/image_0030.jpg True True\n",
      "Testing ../images/kangaroo/image_0021.jpg True True\n",
      "Testing ../images/kangaroo/image_0022.jpg True True\n",
      "Testing ../images/kangaroo/image_0023.jpg False True\n",
      "Testing ../images/kangaroo/image_0024.jpg True True\n",
      "Testing ../images/kangaroo/image_0025.jpg True True\n",
      "Testing ../images/kangaroo/image_0026.jpg True True\n",
      "Testing ../images/kangaroo/image_0027.jpg True True\n",
      "Testing ../images/kangaroo/image_0028.jpg True False\n",
      "Testing ../images/kangaroo/image_0029.jpg False False\n",
      "Testing ../images/kangaroo/image_0030.jpg True False\n",
      "Testing ../images/leopards/image_0021.jpg True True\n",
      "Testing ../images/leopards/image_0022.jpg True True\n",
      "Testing ../images/leopards/image_0023.jpg True False\n",
      "Testing ../images/leopards/image_0024.jpg True True\n",
      "Testing ../images/leopards/image_0025.jpg True True\n",
      "Testing ../images/leopards/image_0026.jpg True True\n",
      "Testing ../images/leopards/image_0027.jpg True False\n",
      "Testing ../images/leopards/image_0028.jpg True True\n",
      "Testing ../images/leopards/image_0029.jpg True True\n",
      "Testing ../images/leopards/image_0030.jpg True True\n",
      "Testing ../images/octopus/image_0024.jpg True True\n",
      "Testing ../images/octopus/image_0025.jpg False False\n",
      "Testing ../images/octopus/image_0026.jpg True False\n",
      "Testing ../images/octopus/image_0027.jpg True True\n",
      "Testing ../images/octopus/image_0028.jpg False False\n",
      "Testing ../images/octopus/image_0029.jpg True False\n",
      "Testing ../images/octopus/image_0030.jpg False True\n",
      "Testing ../images/octopus/image_0031.jpg True True\n",
      "Testing ../images/octopus/image_0032.jpg True True\n",
      "Testing ../images/octopus/image_0033.jpg True False\n",
      "Testing ../images/seahorse/image_0021.jpg True True\n",
      "Testing ../images/seahorse/image_0022.jpg False True\n",
      "Testing ../images/seahorse/image_0023.jpg False False\n",
      "Testing ../images/seahorse/image_0024.jpg False False\n",
      "Testing ../images/seahorse/image_0025.jpg False False\n",
      "Testing ../images/seahorse/image_0026.jpg False True\n",
      "Testing ../images/seahorse/image_0027.jpg True True\n",
      "Testing ../images/seahorse/image_0028.jpg False True\n",
      "Testing ../images/seahorse/image_0029.jpg False True\n",
      "Testing ../images/seahorse/image_0030.jpg False True\n"
     ]
    }
   ],
   "source": [
    "results = test(ds_root, ds_folders, ds_train_size)"
   ]
  },
  {
   "cell_type": "code",
   "execution_count": 143,
   "id": "4b2c7f7e-3efc-4c99-8b05-7da372be62bd",
   "metadata": {},
   "outputs": [],
   "source": [
    "def analyze(results):\n",
    "    total = 0\n",
    "    success = {'rgb':0, 'hue':0}\n",
    "    report = {'total':0, 'success':success, 'categories':{}}\n",
    "    cats = []\n",
    "    \n",
    "    for result in results:\n",
    "        report['total'] += 1\n",
    "        \n",
    "        cat = result['category']\n",
    "        if cat not in report['categories']:\n",
    "            cats.append(cat)\n",
    "            report['categories'][cat] = {\n",
    "                'total':0,\n",
    "                'success':{'rgb':0, 'hue':0},\n",
    "                'rates':{'rgb':0, 'hue':0}\n",
    "            }\n",
    "        \n",
    "        catobj = report['categories'][cat]\n",
    "        rgbsuccess = int(result['rgb']['success'])\n",
    "        huesuccess = int(result['hue']['success'])\n",
    "        \n",
    "        success['rgb'] += rgbsuccess\n",
    "        success['hue'] += huesuccess\n",
    "        catobj['total'] += 1\n",
    "        catobj['success']['rgb'] += rgbsuccess\n",
    "        catobj['success']['hue'] += huesuccess\n",
    "    \n",
    "    for cat in cats:\n",
    "        obj = report['categories'][cat]\n",
    "        total = obj['total']\n",
    "        obj['rates']['rgb'] = obj['success']['rgb'] / total\n",
    "        obj['rates']['hue'] = obj['success']['hue'] / total\n",
    "    \n",
    "    return report"
   ]
  },
  {
   "cell_type": "markdown",
   "id": "aad07280-582a-4e13-86a8-cc17e8bdd09a",
   "metadata": {},
   "source": [
    "**Generate Report**"
   ]
  },
  {
   "cell_type": "code",
   "execution_count": 144,
   "id": "a8d28f88-f656-45ba-adff-c71cbaaaaa57",
   "metadata": {},
   "outputs": [
    {
     "name": "stdout",
     "output_type": "stream",
     "text": [
      "{\n",
      "  \"total\": 60,\n",
      "  \"success\": {\n",
      "    \"rgb\": 37,\n",
      "    \"hue\": 40\n",
      "  },\n",
      "  \"categories\": {\n",
      "    \"elephant\": {\n",
      "      \"total\": 10,\n",
      "      \"success\": {\n",
      "        \"rgb\": 7,\n",
      "        \"hue\": 6\n",
      "      },\n",
      "      \"rates\": {\n",
      "        \"rgb\": 0.7,\n",
      "        \"hue\": 0.6\n",
      "      }\n",
      "    },\n",
      "    \"flamingo\": {\n",
      "      \"total\": 10,\n",
      "      \"success\": {\n",
      "        \"rgb\": 3,\n",
      "        \"hue\": 7\n",
      "      },\n",
      "      \"rates\": {\n",
      "        \"rgb\": 0.3,\n",
      "        \"hue\": 0.7\n",
      "      }\n",
      "    },\n",
      "    \"kangaroo\": {\n",
      "      \"total\": 10,\n",
      "      \"success\": {\n",
      "        \"rgb\": 8,\n",
      "        \"hue\": 7\n",
      "      },\n",
      "      \"rates\": {\n",
      "        \"rgb\": 0.8,\n",
      "        \"hue\": 0.7\n",
      "      }\n",
      "    },\n",
      "    \"leopards\": {\n",
      "      \"total\": 10,\n",
      "      \"success\": {\n",
      "        \"rgb\": 10,\n",
      "        \"hue\": 8\n",
      "      },\n",
      "      \"rates\": {\n",
      "        \"rgb\": 1.0,\n",
      "        \"hue\": 0.8\n",
      "      }\n",
      "    },\n",
      "    \"octopus\": {\n",
      "      \"total\": 10,\n",
      "      \"success\": {\n",
      "        \"rgb\": 7,\n",
      "        \"hue\": 5\n",
      "      },\n",
      "      \"rates\": {\n",
      "        \"rgb\": 0.7,\n",
      "        \"hue\": 0.5\n",
      "      }\n",
      "    },\n",
      "    \"seahorse\": {\n",
      "      \"total\": 10,\n",
      "      \"success\": {\n",
      "        \"rgb\": 2,\n",
      "        \"hue\": 7\n",
      "      },\n",
      "      \"rates\": {\n",
      "        \"rgb\": 0.2,\n",
      "        \"hue\": 0.7\n",
      "      }\n",
      "    }\n",
      "  }\n",
      "}\n"
     ]
    }
   ],
   "source": [
    "report = analyze(results)\n",
    "print(json.dumps(report, indent=2))"
   ]
  },
  {
   "cell_type": "code",
   "execution_count": null,
   "id": "d8d31f13-78be-4adc-b686-ffc70e79ef4c",
   "metadata": {},
   "outputs": [],
   "source": []
  }
 ],
 "metadata": {
  "kernelspec": {
   "display_name": "Python 3 (ipykernel)",
   "language": "python",
   "name": "python3"
  },
  "language_info": {
   "codemirror_mode": {
    "name": "ipython",
    "version": 3
   },
   "file_extension": ".py",
   "mimetype": "text/x-python",
   "name": "python",
   "nbconvert_exporter": "python",
   "pygments_lexer": "ipython3",
   "version": "3.9.8"
  }
 },
 "nbformat": 4,
 "nbformat_minor": 5
}
